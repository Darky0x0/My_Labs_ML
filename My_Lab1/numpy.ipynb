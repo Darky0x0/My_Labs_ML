{
  "cells": [
    {
      "cell_type": "markdown",
      "metadata": {
        "id": "vC84e9kzyxPy"
      },
      "source": [
        "<h1>Импорт библиотек"
      ]
    },
    {
      "cell_type": "code",
      "execution_count": 3,
      "metadata": {
        "id": "cgKeNegmQG5S"
      },
      "outputs": [],
      "source": [
        "import numpy as np\n",
        "import matplotlib.pyplot as plt"
      ]
    },
    {
      "cell_type": "markdown",
      "metadata": {
        "id": "qFM9uVU2x4Ls"
      },
      "source": [
        "<h1>Задача 1. Дан набор из $p$ матриц размерностью $(n, n)$ и $p$ векторов размерностью $(n, 1)$, найти сумму произведений матриц на векторы. Написать тесты для кода"
      ]
    },
    {
      "cell_type": "code",
      "execution_count": null,
      "metadata": {
        "id": "IAbUvEiYyWFF"
      },
      "outputs": [],
      "source": [
        "import numpy as np\n",
        "import pytest\n",
        "\n",
        "def sum_prod(X, V):\n",
        "    '''\n",
        "    X - матрицы (n, n)\n",
        "    V - векторы (n, 1)\n",
        "    Гарантируется, что len(X) == len(V)\n",
        "    '''\n",
        "    result = 0\n",
        "    for i in range(len(X)):\n",
        "        result += np.dot(X[i], V[i])\n",
        "    return result\n",
        "\n",
        "@pytest.fixture\n",
        "def matrices_and_vectors():\n",
        "    X = [np.array([[1, 2], [3, 4]]), np.array([[5, 6], [7, 8]]), np.array([[9, 10], [11, 12]])]\n",
        "    V = [np.array([[1], [2]]), np.array([[3], [4]]), np.array([[5], [6]])]\n",
        "    return X, V\n",
        "\n",
        "def test_sum_prod(matrices_and_vectors):\n",
        "    X, V = matrices_and_vectors\n",
        "    result = sum_prod(X, V)\n",
        "    expected_result = np.dot(X[0], V[0]) + np.dot(X[1], V[1]) + np.dot(X[2], V[2])\n",
        "    assert np.array_equal(result, expected_result)\n",
        "\n",
        "def test_sum_prod_empty_input():\n",
        "    result = sum_prod([], [])\n",
        "    assert result == 0\n",
        "\n",
        "if __name__ == \"__main__\":\n",
        "    pytest.main([__file__])"
      ]
    },
    {
      "cell_type": "markdown",
      "metadata": {
        "id": "TKwPG4fIy2w4"
      },
      "source": [
        "<h1>Задача 2. Дана матрица M, напишите функцию, которая бинаризует матрицу по некоторому threshold (то есть, все значения большие threshold становятся равными 1, иначе 0). Напишите тесты для кода"
      ]
    },
    {
      "cell_type": "code",
      "execution_count": null,
      "metadata": {
        "id": "KQDNMgsjRNH7"
      },
      "outputs": [],
      "source": [
        "import numpy as np\n",
        "import pytest\n",
        "\n",
        "def binarize(M, threshold=0.5):\n",
        "    return (M > threshold).astype(int)\n",
        "\n",
        "def test_binarize_case1():\n",
        "    M1 = np.array([[0.4, 0.6], [0.7, 0.3]])\n",
        "    expected_output = np.array([[0, 1], [1, 0]])\n",
        "    assert np.array_equal(binarize(M1), expected_output)\n",
        "\n",
        "def test_binarize_case2():\n",
        "    M2 = np.array([[0.5, 0.5], [0.5, 0.5]])\n",
        "    expected_output = np.array([[0, 0], [0, 0]])\n",
        "    assert np.array_equal(binarize(M2), expected_output)\n",
        "\n",
        "def test_binarize_case3():\n",
        "    M3 = np.array([[-0.2, 0.7], [0.8, -0.1]])\n",
        "    expected_output = np.array([[0, 1], [1, 0]])\n",
        "    assert np.array_equal(binarize(M3, threshold=0.3), expected_output)\n",
        "\n",
        "if __name__ == \"__main__\":\n",
        "    pytest.main([__file__])"
      ]
    },
    {
      "cell_type": "markdown",
      "metadata": {
        "id": "IY5L-h-7zWhN"
      },
      "source": [
        "<h1>Задача 3. Напишите функцию, которая возвращает уникальные элементы из каждой строки матрицы. Напишите такую же функцию, но для столбцов. Напишите тесты для кода"
      ]
    },
    {
      "cell_type": "code",
      "execution_count": null,
      "metadata": {
        "id": "-8dEZhR0SBC-"
      },
      "outputs": [],
      "source": [
        "import numpy as np\n",
        "import pytest\n",
        "\n",
        "def unique_rows(mat):\n",
        "    unique_rows_list = [np.unique(row) for row in mat]\n",
        "    return unique_rows_list\n",
        "\n",
        "def unique_columns(mat):\n",
        "    unique_cols_list = [np.unique(col) for col in mat.T]\n",
        "    return unique_cols_list\n",
        "\n",
        "\n",
        "def test_unique_rows():\n",
        "    mat = np.array([[1, 2, 3], [4, 5, 6], [1, 2, 3]])\n",
        "    expected = [np.array([1, 2, 3]), np.array([4, 5, 6]), np.array([1, 2, 3])]\n",
        "    assert np.array_equal(unique_rows(mat), expected)\n",
        "    \n",
        "    mat = np.array([[1, 2, 3], [1, 2, 3], [1, 2, 3]])\n",
        "    expected = [np.array([1, 2, 3])]*3\n",
        "    assert np.array_equal(unique_rows(mat), expected)\n",
        "    \n",
        "    mat = np.array([[1, 2, 3], [4, 5, 6], [7, 8, 9]])\n",
        "    expected = [np.array([1, 2, 3]), np.array([4, 5, 6]), np.array([7, 8, 9])]\n",
        "    assert np.array_equal(unique_rows(mat), expected)\n",
        "\n",
        "\n",
        "def test_unique_columns():\n",
        "    mat = np.array([[1, 2, 1], [4, 5, 4], [7, 8, 7]])\n",
        "    expected = [np.array([1, 4, 7]), np.array([2, 5, 8]), np.array([1, 4, 7])]\n",
        "    assert np.array_equal(unique_columns(mat), expected)\n",
        "    \n",
        "    mat = np.array([[1, 2, 3], [1, 2, 3], [1, 2, 3]])\n",
        "    expected = [np.array([1]), np.array([2]), np.array([3])]\n",
        "    assert np.array_equal(unique_columns(mat), expected)\n",
        "    \n",
        "    mat = np.array([[1, 4, 7], [2, 5, 8], [3, 6, 9]])\n",
        "    expected = [np.array([1, 2, 3]), np.array([4, 5, 6]), np.array([7, 8, 9])]\n",
        "    assert np.array_equal(unique_columns(mat), expected)\n",
        "\n",
        "if __name__ == \"__main__\":\n",
        "    pytest.main([__file__])"
      ]
    },
    {
      "cell_type": "markdown",
      "metadata": {
        "id": "roYAlo4Jz-lH"
      },
      "source": [
        "<h1>Задача 4. Напишите функцию, которая заполняет матрицу с размерами $(m, n)$ случайными числами, распределенными по нормальному закону. Затем считает мат. ожидание и дисперсию для каждого из столбцов и строк, а также строит для каждой строки и столбца гистограмму значений (использовать функцию hist из модуля matplotlib.plot)"
      ]
    },
    {
      "cell_type": "code",
      "execution_count": null,
      "metadata": {
        "id": "nZK_71hMSQzv"
      },
      "outputs": [],
      "source": [
        "import numpy as np\n",
        "import matplotlib.pyplot as plt\n",
        "\n",
        "def generate_matrix(m, n):\n",
        "    # Генерация матрицы случайных чисел\n",
        "    matrix = np.random.normal(size=(m, n))\n",
        "    \n",
        "    # Считаем мат. ожидание и дисперсию для каждого столбца и строки\n",
        "    row_means = np.mean(matrix, axis=1)\n",
        "    col_means = np.mean(matrix, axis=0)\n",
        "    row_variances = np.var(matrix, axis=1)\n",
        "    col_variances = np.var(matrix, axis=0)\n",
        "    \n",
        "    # Построение гистограмм\n",
        "    plt.figure(figsize=(12, 6))\n",
        "    \n",
        "    # Для каждой строки\n",
        "    plt.subplot(2, 1, 1)\n",
        "    for i in range(m):\n",
        "        plt.hist(matrix[i], bins=20, alpha=0.5, label=f'Row {i+1}')\n",
        "    plt.xlabel('Value')\n",
        "    plt.ylabel('Frequency')\n",
        "    plt.title('Histogram of Values for Each Row')\n",
        "    plt.legend()\n",
        "\n",
        "    # Для каждого столбца\n",
        "    plt.subplot(2, 1, 2)\n",
        "    for j in range(n):\n",
        "        plt.hist(matrix[:, j], bins=20, alpha=0.5, label=f'Column {j+1}')\n",
        "    plt.xlabel('Value')\n",
        "    plt.ylabel('Frequency')\n",
        "    plt.title('Histogram of Values for Each Column')\n",
        "    plt.legend()\n",
        "\n",
        "    plt.tight_layout()\n",
        "    plt.show()\n",
        "    \n",
        "    # Возвращаем матрицу, мат. ожидание и дисперсию\n",
        "    return matrix, row_means, col_means, row_variances, col_variances\n",
        "\n",
        "# Пример использования\n",
        "m = 5\n",
        "n = 4\n",
        "matrix, row_means, col_means, row_variances, col_variances = generate_matrix(m, n)\n",
        "\n",
        "print(\"Matrix:\")\n",
        "print(matrix)\n",
        "print(\"Row Means:\", row_means)\n",
        "print(\"Column Means:\", col_means)\n",
        "print(\"Row Variances:\", row_variances)\n",
        "print(\"Column Variances:\", col_variances)"
      ]
    },
    {
      "cell_type": "markdown",
      "metadata": {
        "id": "BDyATNdM0dJ2"
      },
      "source": [
        "<h1>Задача 5. Напишите функцию, которая заполняет матрицу $(m, n)$ в шахматном порядке заданными числами $a$ и $b$. Напишите тесты для кода"
      ]
    },
    {
      "cell_type": "code",
      "execution_count": null,
      "metadata": {
        "id": "RWNJYWQGecS6"
      },
      "outputs": [],
      "source": [
        "import numpy as np\n",
        "import pytest\n",
        "\n",
        "def chess(m, n, a, b):\n",
        "    result = np.zeros((m, n), dtype=int)\n",
        "    for i in range(m):\n",
        "        for j in range(n):\n",
        "            if (i + j) % 2 == 0:\n",
        "                result[i][j] = a\n",
        "            else:\n",
        "                result[i][j] = b\n",
        "    return result\n",
        "\n",
        "def test_chess():\n",
        "\n",
        "    m, n = 3, 3\n",
        "    a, b = 1, 2\n",
        "    expected_result = np.array([[1, 2, 1],\n",
        "                                [2, 1, 2],\n",
        "                                [1, 2, 1]])\n",
        "    assert np.array_equal(chess(m, n, a, b), expected_result)\n",
        "\n",
        "    m, n = 4, 4\n",
        "    a, b = 0, 9\n",
        "    expected_result = np.array([[0, 9, 0, 9],\n",
        "                                [9, 0, 9, 0],\n",
        "                                [0, 9, 0, 9],\n",
        "                                [9, 0, 9, 0]])\n",
        "    assert np.array_equal(chess(m, n, a, b), expected_result)\n",
        "\n",
        "    m, n = 2, 5\n",
        "    a, b = 3, 5\n",
        "    expected_result = np.array([[3, 5, 3, 5, 3],\n",
        "                                [5, 3, 5, 3, 5]])\n",
        "    assert np.array_equal(chess(m, n, a, b), expected_result)\n",
        "\n",
        "    m, n = 1, 1\n",
        "    a, b = 4, 7\n",
        "    expected_result = np.array([[4]])\n",
        "    assert np.array_equal(chess(m, n, a, b), expected_result)\n",
        "\n",
        "if __name__ == \"__main__\":\n",
        "    pytest.main([__file__])"
      ]
    },
    {
      "cell_type": "markdown",
      "metadata": {
        "id": "-ymXLtTN0vB6"
      },
      "source": [
        "<h1>Задача 6. Напишите функцию, которая отрисовывает прямоугольник с заданными размерами (a, b) на изображении размера (m, n), цвет фона задайте в схеме RGB, как и цвет прямоугольника. Цвета также должны быть параметрами функции. Напишите аналогичную функцию но для овала с полуосями a и b. Напишите тесты для кода.\n",
        "Примечание: уравнение эллипса (границы овала) можно записать как:\n",
        "<h1>$\\frac{(x-x_0)^2}{a^2}+\\frac{(y-y_0)^2}{b^2}=1$"
      ]
    },
    {
      "cell_type": "code",
      "execution_count": 1,
      "metadata": {
        "id": "sNfl1t_kfOF4"
      },
      "outputs": [],
      "source": [
        "import numpy as np\n",
        "import matplotlib.pyplot as plt\n",
        "\n",
        "def draw_rectangle(a, b, m, n, rectangle_color, background_color):\n",
        "    image = np.full((m, n, 3), background_color, dtype=np.uint8)  # Создаем изображение заданного размера с фоновым цветом\n",
        "    rectangle = np.full((a, b, 3), rectangle_color, dtype=np.uint8)  # Создаем прямоугольник нужного размера и цвета\n",
        "    x_offset = (m - a) // 2  # Определяем смещение по горизонтали для центрирования прямоугольника\n",
        "    y_offset = (n - b) // 2  # Определяем смещение по вертикали для центрирования прямоугольника\n",
        "    image[x_offset:x_offset+a, y_offset:y_offset+b] = rectangle  # Размещаем прямоугольник на изображении\n",
        "    plt.imshow(image)  # Отображаем изображение\n",
        "    plt.axis('off')  # Отключаем оси\n",
        "    plt.show()\n",
        "\n",
        "def draw_ellipse(a, b, m, n, ellipse_color, background_color):\n",
        "    image = np.full((m, n, 3), background_color, dtype=np.uint8)  # Создаем изображение заданного размера с фоновым цветом\n",
        "    y, x = np.ogrid[:m, :n]  # Создаем сетку координат\n",
        "    ellipse_mask = ((x - n // 2) ** 2) / (a ** 2) + ((y - m // 2) ** 2) / (b ** 2) <= 1  # Определяем маску эллипса\n",
        "    image[ellipse_mask] = ellipse_color  # Заливаем цветом область, соответствующую эллипсу\n",
        "    plt.imshow(image)  # Отображаем изображение\n",
        "    plt.axis('off')  # Отключаем оси\n",
        "    plt.show()\n",
        "\n",
        "# Тесты\n",
        "draw_rectangle(100, 50, 200, 200, (255, 0, 0), (255, 255, 255))  # Рисуем красный прямоугольник на белом фоне\n",
        "draw_ellipse(100, 50, 200, 200, (0, 0, 255), (255, 255, 255))  # Рисуем синий эллипс на белом фоне\n"
      ]
    },
    {
      "cell_type": "markdown",
      "metadata": {
        "id": "S82c38oz244H"
      },
      "source": [
        "<h1>Задача 7. Дан некий временной ряд. Для данного ряда нужно найти его: математическое ожидание, дисперсию, СКО, найти все локальные максимумы и минимумы (локальный максимум - это точка, которая больше своих соседних точек, а локальный минимум - это точка, которая меньше своих соседей), а также вычислить для данного ряда другой ряд, получаемый методом скользящего среднего с размером окна $p$.\n",
        "<h1>Примечание: метод скользящего среднего подразумевает нахождение среднего из подмножетсва ряда размером $p$"
      ]
    },
    {
      "cell_type": "code",
      "execution_count": null,
      "metadata": {
        "id": "Zb9mIVge5MMt"
      },
      "outputs": [],
      "source": [
        "import numpy as np\n",
        "\n",
        "def moving_average(data, window_size):\n",
        "    cumsum = np.cumsum(data)\n",
        "    cumsum[window_size:] = cumsum[window_size:] - cumsum[:-window_size]\n",
        "    return cumsum[window_size - 1:] / window_size\n",
        "\n",
        "def find_local_extrema(data):\n",
        "    maxima = np.where((data[1:-1] > data[:-2]) & (data[1:-1] > data[2:]))[0] + 1\n",
        "    minima = np.where((data[1:-1] < data[:-2]) & (data[1:-1] < data[2:]))[0] + 1\n",
        "    return maxima, minima\n",
        "\n",
        "# Пускай тесты и не нужны по заданию, но для примера один напишу\n",
        "# Пример временного ряда\n",
        "time_series = np.array([3, 5, 8, 4, 10, 12, 9, 6, 11, 7])\n",
        "\n",
        "# Математическое ожидание\n",
        "mean = np.mean(time_series)\n",
        "\n",
        "# Дисперсия\n",
        "variance = np.var(time_series)\n",
        "\n",
        "# Стандартное квадратичное отклонение (СКО)\n",
        "std_deviation = np.std(time_series)\n",
        "\n",
        "# Локальные максимумы и минимумы\n",
        "maxima, minima = find_local_extrema(time_series)\n",
        "\n",
        "# Размер окна скользящего среднего\n",
        "p = 3\n",
        "\n",
        "# Вычисление скользящего среднего\n",
        "smoothed_series = moving_average(time_series, p)\n",
        "\n",
        "print(\"Математическое ожидание:\", mean)\n",
        "print(\"Дисперсия:\", variance)\n",
        "print(\"Стандартное отклонение:\", std_deviation)\n",
        "print(\"Локальные максимумы:\", maxima)\n",
        "print(\"Локальные минимумы:\", minima)\n",
        "print(\"Ряд скользящего среднего:\", smoothed_series)\n"
      ]
    },
    {
      "cell_type": "markdown",
      "metadata": {
        "id": "jPkylmOX5O9n"
      },
      "source": [
        "<h1> Задача 8. Дан некоторый вектор с целочисленными метками классов, напишите функцию, которая выполняет one-hot-encoding для данного вектора\n",
        "<h1> One-hot-encoding - представление, в котором на месте метки некоторого класса стоит 1, в остальных позициях стоит 0. Например для вектора [0, 2, 3, 0] one-hot-encoding выглядит как: [[1, 0, 0, 0], [0, 0, 1, 0], [0, 0, 0, 1], [1, 0, 0, 0]]"
      ]
    },
    {
      "cell_type": "code",
      "execution_count": null,
      "metadata": {
        "id": "Y-jlnZvw56lD"
      },
      "outputs": [],
      "source": [
        "import numpy as np\n",
        "\n",
        "def one_hot_encoding(labels, num_classes=None):\n",
        "    if num_classes is None:\n",
        "        num_classes = np.max(labels) + 1\n",
        "    encoding = np.zeros((len(labels), num_classes), dtype=int)\n",
        "    encoding[np.arange(len(labels)), labels] = 1\n",
        "    return encoding\n",
        "\n",
        "# Пример с прописанного в задании теста\n",
        "labels = np.array([0, 2, 3, 0])\n",
        "one_hot = one_hot_encoding(labels)\n",
        "print(one_hot)"
      ]
    }
  ],
  "metadata": {
    "colab": {
      "provenance": []
    },
    "kernelspec": {
      "display_name": "Python 3",
      "name": "python3"
    },
    "language_info": {
      "name": "python"
    }
  },
  "nbformat": 4,
  "nbformat_minor": 0
}
