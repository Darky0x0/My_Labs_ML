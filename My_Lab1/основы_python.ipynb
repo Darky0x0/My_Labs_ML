{
  "cells": [
    {
      "cell_type": "markdown",
      "metadata": {
        "id": "M-DGa20PaHnu"
      },
      "source": [
        "#Задача 1\n",
        "Написать функцию на вход которой подается строка, состоящая из латинских букв.\n",
        "Функция должна вернуть количество гласных букв (a, e, i, o, u) в этой строке. Написать тесты для кода"
      ]
    },
    {
      "cell_type": "code",
      "execution_count": null,
      "metadata": {
        "id": "XvX8X_JJ6PCb"
      },
      "outputs": [],
      "source": [
        "import unittest\n",
        "\n",
        "def count_vowels(string):\n",
        "    vowels = 'aeiouAEIOU'\n",
        "    count = 0\n",
        "    for char in string:\n",
        "        if char in vowels:\n",
        "            count += 1\n",
        "    return count\n",
        "\n",
        "class TestCountVowels(unittest.TestCase):\n",
        "    def test_empty_string(self):\n",
        "        self.assertEqual(count_vowels(''), 0)\n",
        "\n",
        "    def test_no_vowels(self):\n",
        "        self.assertEqual(count_vowels('hll wrld'), 0)\n",
        "\n",
        "    def test_all_vowels_lower_case(self):\n",
        "        self.assertEqual(count_vowels('aeiou'), 5)\n",
        "\n",
        "    def test_all_vowels_upper_case(self):\n",
        "        self.assertEqual(count_vowels('AEIOU'), 5)\n",
        "\n",
        "    def test_mixed_case(self):\n",
        "        self.assertEqual(count_vowels('Hello World'), 3)\n",
        "\n",
        "    def test_numbers_and_symbols(self):\n",
        "        self.assertEqual(count_vowels('12345!@#$%'), 0)\n",
        "\n",
        "if __name__ == '__main__':\n",
        "    unittest.main()"
      ]
    },
    {
      "cell_type": "markdown",
      "metadata": {
        "id": "t2ClV_Y0bbr6"
      },
      "source": [
        "# Задача 2\n",
        "Написать функцию на вход, которой подается строка. Функция должна вернуть true, если\n",
        "каждый символ в строке встречается только 1 раз, иначе должна вернуть false. Написать тесты для кода"
      ]
    },
    {
      "cell_type": "code",
      "execution_count": null,
      "metadata": {
        "id": "FppbECao6VIz"
      },
      "outputs": [],
      "source": [
        "import unittest\n",
        "\n",
        "def unique_characters(string):\n",
        "    char_count = {}\n",
        "    for char in string:\n",
        "        if char in char_count:\n",
        "            return False\n",
        "        else:\n",
        "            char_count[char] = 1\n",
        "    return True\n",
        "\n",
        "class TestUniqueCharacters(unittest.TestCase):\n",
        "    def test_unique_characters_abcdefg(self):\n",
        "        self.assertEqual(unique_characters(\"abcdefg\"), True)\n",
        "\n",
        "    def test_unique_characters_hello(self):\n",
        "        self.assertEqual(unique_characters(\"hello\"), False)\n",
        "\n",
        "    def test_unique_characters_empty(self):\n",
        "        self.assertEqual(unique_characters(\"\"), True)\n",
        "\n",
        "    def test_unique_characters_single_char(self):\n",
        "        self.assertEqual(unique_characters(\"a\"), True)\n",
        "\n",
        "    def test_unique_characters_abracadabra(self):\n",
        "        self.assertEqual(unique_characters(\"abracadabra\"), False)\n",
        "\n",
        "if __name__ == '__main__':\n",
        "    unittest.main()"
      ]
    },
    {
      "cell_type": "markdown",
      "metadata": {
        "id": "udRiIK1cdt6E"
      },
      "source": [
        "# Задача 3\n",
        "Написать функцию, которая принимает положительное число и возвращает количество\n",
        "бит равных 1 в этом числе. Написать тесты для кода"
      ]
    },
    {
      "cell_type": "code",
      "execution_count": null,
      "metadata": {
        "id": "6tkfDJRz6dp_"
      },
      "outputs": [],
      "source": [
        "import unittest\n",
        "\n",
        "def count_set_bits(num):\n",
        "    count = 0\n",
        "    while num:\n",
        "        count += num & 1\n",
        "        num >>= 1\n",
        "    return count\n",
        "\n",
        "class TestCountSetBits(unittest.TestCase):\n",
        "\n",
        "    def test_zero(self):\n",
        "        self.assertEqual(count_set_bits(0), 0)\n",
        "\n",
        "    def test_power_of_two(self):\n",
        "        self.assertEqual(count_set_bits(1), 1)\n",
        "        self.assertEqual(count_set_bits(2), 1)\n",
        "        self.assertEqual(count_set_bits(4), 1)\n",
        "        self.assertEqual(count_set_bits(8), 1)\n",
        "        self.assertEqual(count_set_bits(16), 1)\n",
        "\n",
        "    def test_odd_number(self):\n",
        "        self.assertEqual(count_set_bits(3), 2)\n",
        "        self.assertEqual(count_set_bits(5), 2)\n",
        "        self.assertEqual(count_set_bits(7), 3)\n",
        "        self.assertEqual(count_set_bits(15), 4)\n",
        "    \n",
        "    def test_large_number(self):\n",
        "        self.assertEqual(count_set_bits(1023), 10)\n",
        "        self.assertEqual(count_set_bits(2047), 11)\n",
        "        self.assertEqual(count_set_bits(4095), 12)\n",
        "\n",
        "if __name__ == '__main__':\n",
        "    unittest.main()"
      ]
    },
    {
      "cell_type": "markdown",
      "metadata": {
        "id": "26dDUz-Ae17N"
      },
      "source": [
        "# Задача 4\n",
        "Написать функцию, которая принимает положительное число. Функция должна вернуть то,\n",
        "сколько раз необходимо перемножать цифры числа или результат перемножения, чтобы\n",
        "получилось число состоящее из одной цифры.\n",
        "Например, для входного числа:\n",
        "· 39 функция должна вернуть 3, так как 3*9=27 => 2*7=14 => 1*4=4\n",
        "· 4 функция должна вернуть 0, так как число уже состоит из одной цифры\n",
        "· 999 функция должна вернуть 4, так как 9*9*9=729 => 7*2*9=126 => 1*2*6=12 =>\n",
        "1*2=2. Написать тесты для кода"
      ]
    },
    {
      "cell_type": "code",
      "execution_count": null,
      "metadata": {
        "id": "BH1A_Mgi6i4G"
      },
      "outputs": [],
      "source": [
        "import unittest\n",
        "\n",
        "def magic(n):\n",
        "    def multiply_digits(num):\n",
        "        result = 1\n",
        "        for digit in str(num):\n",
        "            result *= int(digit)\n",
        "        return result\n",
        "    \n",
        "    count = 0\n",
        "    while n >= 10:\n",
        "        n = multiply_digits(n)\n",
        "        count += 1\n",
        "    \n",
        "    return count\n",
        "\n",
        "class TestMagicFunction(unittest.TestCase):\n",
        "    def test_magic(self):\n",
        "        self.assertEqual(magic(39), 3)\n",
        "        self.assertEqual(magic(4), 0)\n",
        "        self.assertEqual(magic(999), 4)\n",
        "        self.assertEqual(magic(12345), 2)\n",
        "        self.assertEqual(magic(100), 1)\n",
        "        \n",
        "if __name__ == \"__main__\":\n",
        "    unittest.main()"
      ]
    },
    {
      "cell_type": "markdown",
      "metadata": {
        "id": "0nS-kIa8g8vd"
      },
      "source": [
        "# Задача 5\n",
        "Написать функцию, которая принимает два целочисленных вектора одинаковой длины и\n",
        "возвращает среднеквадратическое отклонение двух векторов. Написать тесты для кода"
      ]
    },
    {
      "cell_type": "code",
      "execution_count": null,
      "metadata": {
        "id": "8iphx4LM6xbx"
      },
      "outputs": [],
      "source": [
        "import unittest\n",
        "\n",
        "def mse(pred, true):\n",
        "    if len(pred) != len(true):\n",
        "        raise ValueError(\"Векторы должны иметь одинаковую длину\")\n",
        "    if len(pred) == 0:\n",
        "        raise ValueError(\"Векторы не могут быть пустыми\")\n",
        "    squared_diff = [(p - t) ** 2 for p, t in zip(pred, true)]\n",
        "    mean_squared_diff = sum(squared_diff) / len(pred)\n",
        "    return mean_squared_diff ** 0.5\n",
        "\n",
        "class TestMSE(unittest.TestCase):\n",
        "    def test_mse_equal_vectors(self):\n",
        "        pred = [1, 2, 3, 4, 5]\n",
        "        true = [1, 2, 3, 4, 5]\n",
        "        self.assertEqual(mse(pred, true), 0)\n",
        "\n",
        "    def test_mse_different_vectors(self):\n",
        "        pred = [1, 2, 3, 4, 5]\n",
        "        true = [5, 4, 3, 2, 1]\n",
        "        self.assertEqual(mse(pred, true), 2.8284271247461903)\n",
        "\n",
        "    def test_mse_empty_vectors(self):\n",
        "        pred = []\n",
        "        true = []\n",
        "        with self.assertRaises(ValueError):\n",
        "            mse(pred, true)\n",
        "\n",
        "    def test_mse_vectors_of_different_lengths(self):\n",
        "        pred = [1, 2, 3]\n",
        "        true = [4, 5, 6, 7]\n",
        "        with self.assertRaises(ValueError):\n",
        "            mse(pred, true)\n",
        "\n",
        "if __name__ == '__main__':\n",
        "    unittest.main()"
      ]
    },
    {
      "cell_type": "markdown",
      "metadata": {
        "id": "vpIPKL439zkw"
      },
      "source": [
        "# Задача 6\n",
        "Написать функцию, принимающая целое положительное число. Функция должна вернуть\n",
        "строку вида “(n1**p1)(n2**p2)…(nk**pk)” представляющая разложение числа на простые\n",
        "множители (если pi == 1, то выводить только ni).\n",
        "Например, для числа 86240 функция должна вернуть “(2**5)(5)(7**2)(11)”. Написать тесты для кода"
      ]
    },
    {
      "cell_type": "code",
      "execution_count": null,
      "metadata": {
        "id": "pFebmcZk94Jw"
      },
      "outputs": [],
      "source": [
        "import unittest\n",
        "\n",
        "def prime_factors(n):\n",
        "    factors = []\n",
        "    divisor = 2\n",
        "    while n > 1:\n",
        "        if n % divisor == 0:\n",
        "            count = 0\n",
        "            while n % divisor == 0:\n",
        "                n //= divisor\n",
        "                count += 1\n",
        "            factors.append((divisor, count))\n",
        "        divisor += 1\n",
        "    return factors\n",
        "\n",
        "def format_factors(factors):\n",
        "    result = \"\"\n",
        "    for factor, power in factors:\n",
        "        if power == 1:\n",
        "            result += f\"({factor})\"\n",
        "        else:\n",
        "            result += f\"({factor}**{power})\"\n",
        "    return result\n",
        "\n",
        "class TestPrimeFactors(unittest.TestCase):\n",
        "    def test_prime_factors(self):\n",
        "        self.assertEqual(prime_factors(1), [])\n",
        "        self.assertEqual(prime_factors(2), [(2, 1)])\n",
        "        self.assertEqual(prime_factors(10), [(2, 1), (5, 1)])\n",
        "        self.assertEqual(prime_factors(86240), [(2, 5), (5, 1), (7, 2), (11, 1)])\n",
        "\n",
        "    def test_format_factors(self):\n",
        "        self.assertEqual(format_factors([]), \"\")\n",
        "        self.assertEqual(format_factors([(2, 1)]), \"(2)\")\n",
        "        self.assertEqual(format_factors([(2, 1), (5, 1)]), \"(2)(5)\")\n",
        "        self.assertEqual(format_factors([(2, 5), (5, 1), (7, 2), (11, 1)]), \"(2**5)(5)(7**2)(11)\")\n",
        "\n",
        "if __name__ == \"__main__\":\n",
        "    unittest.main()"
      ]
    },
    {
      "cell_type": "markdown",
      "metadata": {
        "id": "ps2s0BudX7A2"
      },
      "source": [
        "# Задача 7\n",
        "Написать функцию, принимающая целое число n, задающее количество кубиков. Функция\n",
        "должна определить, можно ли из данного кол-ва кубиков построить пирамиду, то есть\n",
        "можно ли представить число n как 1^2+2^2+3^2+…+k^2. Если можно, то функция должна\n",
        "вернуть k, иначе строку “It is impossible”. Написать тесты для кода"
      ]
    },
    {
      "cell_type": "code",
      "execution_count": null,
      "metadata": {
        "id": "3YPjEXxhX_YT"
      },
      "outputs": [],
      "source": [
        "import unittest\n",
        "\n",
        "def pyramid(number):\n",
        "    k = 1\n",
        "    sum_of_squares = 1\n",
        "    while sum_of_squares < number:\n",
        "        k += 1\n",
        "        sum_of_squares += k ** 2\n",
        "    if sum_of_squares == number:\n",
        "        return k\n",
        "    else:\n",
        "        return \"It is impossible\"\n",
        "\n",
        "class TestPyramid(unittest.TestCase):\n",
        "    def test_possible_cases(self):\n",
        "        self.assertEqual(pyramid(1), 1)\n",
        "        self.assertEqual(pyramid(5), 2)\n",
        "        self.assertEqual(pyramid(14), 3)\n",
        "        self.assertEqual(pyramid(30), 4)\n",
        "        self.assertEqual(pyramid(55), 5)\n",
        "\n",
        "    def test_impossible_cases(self):\n",
        "        self.assertEqual(pyramid(18413), \"It is impossible\")\n",
        "        self.assertEqual(pyramid(56), \"It is impossible\")\n",
        "        self.assertEqual(pyramid(13), \"It is impossible\")\n",
        "\n",
        "if __name__ == '__main__':\n",
        "    unittest.main()\n"
      ]
    },
    {
      "cell_type": "markdown",
      "metadata": {
        "id": "KeKgmIdAQMEJ"
      },
      "source": [
        "# Задача 8\n",
        "Функция принимает на вход положительное число и определяет является ли оно сбалансированным, т.е. сумма цифр до средних равна сумме цифр после. Средними в случае нечетного числа цифр считать одну цифру, в случае четного - две средних. Написать тесты для кода"
      ]
    },
    {
      "cell_type": "code",
      "execution_count": null,
      "metadata": {
        "id": "gMAAqtqlQrZt"
      },
      "outputs": [],
      "source": [
        "import unittest\n",
        "\n",
        "def is_balanced_number(num):\n",
        "    num_str = str(num)\n",
        "    length = len(num_str)\n",
        "    \n",
        "    if length % 2 == 0:\n",
        "        left_half = num_str[:length // 2]\n",
        "        right_half = num_str[length // 2:]\n",
        "    else:\n",
        "        left_half = num_str[:length // 2]\n",
        "        right_half = num_str[length // 2 + 1:]\n",
        "\n",
        "    return sum(map(int, left_half)) == sum(map(int, right_half))\n",
        "\n",
        "class TestIsBalancedNumber(unittest.TestCase):\n",
        "    def test_odd_length_balanced(self):\n",
        "        self.assertEqual(is_balanced_number(121), True)\n",
        "        self.assertEqual(is_balanced_number(12321), True)\n",
        "\n",
        "    def test_odd_length_unbalanced(self):\n",
        "        self.assertEqual(is_balanced_number(12345), False)\n",
        "        self.assertEqual(is_balanced_number(123456789), False)\n",
        "\n",
        "    def test_even_length_balanced(self):\n",
        "        self.assertEqual(is_balanced_number(1221), True)\n",
        "        self.assertEqual(is_balanced_number(123321), True)\n",
        "\n",
        "    def test_even_length_unbalanced(self):\n",
        "        self.assertEqual(is_balanced_number(12344321), True)\n",
        "        self.assertEqual(is_balanced_number(1234567890), False)\n",
        "\n",
        "    def test_single_digit(self):\n",
        "        self.assertEqual(is_balanced_number(1), True)\n",
        "        self.assertEqual(is_balanced_number(5), True)\n",
        "\n",
        "if __name__ == '__main__':\n",
        "    unittest.main()"
      ]
    }
  ],
  "metadata": {
    "colab": {
      "provenance": []
    },
    "kernelspec": {
      "display_name": "Python 3",
      "name": "python3"
    },
    "language_info": {
      "name": "python"
    }
  },
  "nbformat": 4,
  "nbformat_minor": 0
}
